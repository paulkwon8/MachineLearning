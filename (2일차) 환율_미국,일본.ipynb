{
 "cells": [
  {
   "cell_type": "code",
   "execution_count": 1,
   "metadata": {},
   "outputs": [],
   "source": [
    "import numpy as np\n",
    "import pandas as pd\n",
    "import matplotlib.pyplot as plt"
   ]
  },
  {
   "cell_type": "code",
   "execution_count": 2,
   "metadata": {},
   "outputs": [
    {
     "data": {
      "text/plain": [
       "(248, 8)"
      ]
     },
     "execution_count": 2,
     "metadata": {},
     "output_type": "execute_result"
    }
   ],
   "source": [
    "f = '환율DATA.xlsx'\n",
    "df = pd.read_excel(f, encoding='cp949', index_col=0, header=1)\n",
    "df.shape"
   ]
  },
  {
   "cell_type": "code",
   "execution_count": 3,
   "metadata": {},
   "outputs": [],
   "source": [
    "df4 = df.iloc[:,:4]\n",
    "df4 = df4.dropna() #NaN 하나라도 있으면 그 행을 버린다."
   ]
  },
  {
   "cell_type": "code",
   "execution_count": 4,
   "metadata": {},
   "outputs": [
    {
     "data": {
      "text/html": [
       "<div>\n",
       "<style scoped>\n",
       "    .dataframe tbody tr th:only-of-type {\n",
       "        vertical-align: middle;\n",
       "    }\n",
       "\n",
       "    .dataframe tbody tr th {\n",
       "        vertical-align: top;\n",
       "    }\n",
       "\n",
       "    .dataframe thead th {\n",
       "        text-align: right;\n",
       "    }\n",
       "</style>\n",
       "<table border=\"1\" class=\"dataframe\">\n",
       "  <thead>\n",
       "    <tr style=\"text-align: right;\">\n",
       "      <th></th>\n",
       "      <th>보내실때</th>\n",
       "      <th>받으실때</th>\n",
       "      <th>사실때</th>\n",
       "      <th>파실때</th>\n",
       "    </tr>\n",
       "  </thead>\n",
       "  <tbody>\n",
       "    <tr>\n",
       "      <th>2019.07.02</th>\n",
       "      <td>1,178.10</td>\n",
       "      <td>1,155.50</td>\n",
       "      <td>1,187.21</td>\n",
       "      <td>1,146.39</td>\n",
       "    </tr>\n",
       "    <tr>\n",
       "      <th>2019.07.01</th>\n",
       "      <td>1,174.20</td>\n",
       "      <td>1,151.80</td>\n",
       "      <td>1,183.35</td>\n",
       "      <td>1,142.65</td>\n",
       "    </tr>\n",
       "    <tr>\n",
       "      <th>2019.06.28</th>\n",
       "      <td>1,166.70</td>\n",
       "      <td>1,144.30</td>\n",
       "      <td>1,175.72</td>\n",
       "      <td>1,135.28</td>\n",
       "    </tr>\n",
       "    <tr>\n",
       "      <th>2019.06.27</th>\n",
       "      <td>1,168.70</td>\n",
       "      <td>1,146.30</td>\n",
       "      <td>1,177.75</td>\n",
       "      <td>1,137.25</td>\n",
       "    </tr>\n",
       "    <tr>\n",
       "      <th>2019.06.26</th>\n",
       "      <td>1,168.70</td>\n",
       "      <td>1,146.30</td>\n",
       "      <td>1,177.75</td>\n",
       "      <td>1,137.25</td>\n",
       "    </tr>\n",
       "  </tbody>\n",
       "</table>\n",
       "</div>"
      ],
      "text/plain": [
       "                보내실때      받으실때       사실때       파실때\n",
       "2019.07.02  1,178.10  1,155.50  1,187.21  1,146.39\n",
       "2019.07.01  1,174.20  1,151.80  1,183.35  1,142.65\n",
       "2019.06.28  1,166.70  1,144.30  1,175.72  1,135.28\n",
       "2019.06.27  1,168.70  1,146.30  1,177.75  1,137.25\n",
       "2019.06.26  1,168.70  1,146.30  1,177.75  1,137.25"
      ]
     },
     "execution_count": 4,
     "metadata": {},
     "output_type": "execute_result"
    }
   ],
   "source": [
    "df4.head()"
   ]
  },
  {
   "cell_type": "markdown",
   "metadata": {},
   "source": [
    "전처리 (문자 → 숫자) preprocessing"
   ]
  },
  {
   "cell_type": "code",
   "execution_count": 5,
   "metadata": {},
   "outputs": [
    {
     "name": "stdout",
     "output_type": "stream",
     "text": [
      "<class 'pandas.core.frame.DataFrame'>\n",
      "Index: 248 entries, 2019.07.02 to 2018.06.29\n",
      "Data columns (total 4 columns):\n",
      "보내실때    248 non-null object\n",
      "받으실때    248 non-null object\n",
      "사실때     248 non-null object\n",
      "파실때     248 non-null object\n",
      "dtypes: object(4)\n",
      "memory usage: 9.7+ KB\n"
     ]
    }
   ],
   "source": [
    "df4.info()"
   ]
  },
  {
   "cell_type": "code",
   "execution_count": 6,
   "metadata": {},
   "outputs": [],
   "source": [
    "df4 = df4.replace(',','',regex=True)\n",
    "df4 = df4.astype(np.float)"
   ]
  },
  {
   "cell_type": "code",
   "execution_count": 7,
   "metadata": {},
   "outputs": [
    {
     "data": {
      "text/html": [
       "<div>\n",
       "<style scoped>\n",
       "    .dataframe tbody tr th:only-of-type {\n",
       "        vertical-align: middle;\n",
       "    }\n",
       "\n",
       "    .dataframe tbody tr th {\n",
       "        vertical-align: top;\n",
       "    }\n",
       "\n",
       "    .dataframe thead th {\n",
       "        text-align: right;\n",
       "    }\n",
       "</style>\n",
       "<table border=\"1\" class=\"dataframe\">\n",
       "  <thead>\n",
       "    <tr style=\"text-align: right;\">\n",
       "      <th></th>\n",
       "      <th>보내실때</th>\n",
       "      <th>받으실때</th>\n",
       "      <th>사실때</th>\n",
       "      <th>파실때</th>\n",
       "    </tr>\n",
       "  </thead>\n",
       "  <tbody>\n",
       "    <tr>\n",
       "      <th>2019.07.02</th>\n",
       "      <td>1178.1</td>\n",
       "      <td>1155.5</td>\n",
       "      <td>1187.21</td>\n",
       "      <td>1146.39</td>\n",
       "    </tr>\n",
       "    <tr>\n",
       "      <th>2019.07.01</th>\n",
       "      <td>1174.2</td>\n",
       "      <td>1151.8</td>\n",
       "      <td>1183.35</td>\n",
       "      <td>1142.65</td>\n",
       "    </tr>\n",
       "    <tr>\n",
       "      <th>2019.06.28</th>\n",
       "      <td>1166.7</td>\n",
       "      <td>1144.3</td>\n",
       "      <td>1175.72</td>\n",
       "      <td>1135.28</td>\n",
       "    </tr>\n",
       "    <tr>\n",
       "      <th>2019.06.27</th>\n",
       "      <td>1168.7</td>\n",
       "      <td>1146.3</td>\n",
       "      <td>1177.75</td>\n",
       "      <td>1137.25</td>\n",
       "    </tr>\n",
       "    <tr>\n",
       "      <th>2019.06.26</th>\n",
       "      <td>1168.7</td>\n",
       "      <td>1146.3</td>\n",
       "      <td>1177.75</td>\n",
       "      <td>1137.25</td>\n",
       "    </tr>\n",
       "  </tbody>\n",
       "</table>\n",
       "</div>"
      ],
      "text/plain": [
       "              보내실때    받으실때      사실때      파실때\n",
       "2019.07.02  1178.1  1155.5  1187.21  1146.39\n",
       "2019.07.01  1174.2  1151.8  1183.35  1142.65\n",
       "2019.06.28  1166.7  1144.3  1175.72  1135.28\n",
       "2019.06.27  1168.7  1146.3  1177.75  1137.25\n",
       "2019.06.26  1168.7  1146.3  1177.75  1137.25"
      ]
     },
     "execution_count": 7,
     "metadata": {},
     "output_type": "execute_result"
    }
   ],
   "source": [
    "df4.head()"
   ]
  },
  {
   "cell_type": "code",
   "execution_count": 8,
   "metadata": {},
   "outputs": [
    {
     "data": {
      "text/plain": [
       "<matplotlib.axes._subplots.AxesSubplot at 0x2229943bb00>"
      ]
     },
     "execution_count": 8,
     "metadata": {},
     "output_type": "execute_result"
    },
    {
     "data": {
      "image/png": "[encoded data removed]",
      "text/plain": [
       "<Figure size 432x288 with 1 Axes>"
      ]
     },
     "metadata": {
      "needs_background": "light"
     },
     "output_type": "display_data"
    }
   ],
   "source": [
    "plt.rc('font', family='Malgun Gothic')\n",
    "df4.iloc[::-1].plot()   # -1 : 거꾸로 소팅해서 보여주겠다. "
   ]
  },
  {
   "cell_type": "code",
   "execution_count": 9,
   "metadata": {},
   "outputs": [
    {
     "data": {
      "text/plain": [
       "(369, 2)"
      ]
     },
     "execution_count": 9,
     "metadata": {},
     "output_type": "execute_result"
    }
   ],
   "source": [
    "f2 = '8.8.1.1 주요국통화의 대원화 환.xls'\n",
    "df2 = pd.read_excel(f2, encoding='cp949', index_col=0, header=3)\n",
    "df2.shape"
   ]
  },
  {
   "cell_type": "code",
   "execution_count": 10,
   "metadata": {},
   "outputs": [
    {
     "data": {
      "text/html": [
       "<div>\n",
       "<style scoped>\n",
       "    .dataframe tbody tr th:only-of-type {\n",
       "        vertical-align: middle;\n",
       "    }\n",
       "\n",
       "    .dataframe tbody tr th {\n",
       "        vertical-align: top;\n",
       "    }\n",
       "\n",
       "    .dataframe thead th {\n",
       "        text-align: right;\n",
       "    }\n",
       "</style>\n",
       "<table border=\"1\" class=\"dataframe\">\n",
       "  <thead>\n",
       "    <tr style=\"text-align: right;\">\n",
       "      <th></th>\n",
       "      <th>원자료</th>\n",
       "      <th>원자료.1</th>\n",
       "    </tr>\n",
       "    <tr>\n",
       "      <th>변환</th>\n",
       "      <th></th>\n",
       "      <th></th>\n",
       "    </tr>\n",
       "  </thead>\n",
       "  <tbody>\n",
       "    <tr>\n",
       "      <th>2018/06/29</th>\n",
       "      <td>1121.7</td>\n",
       "      <td>1014.79</td>\n",
       "    </tr>\n",
       "    <tr>\n",
       "      <th>2018/06/30</th>\n",
       "      <td>NaN</td>\n",
       "      <td>NaN</td>\n",
       "    </tr>\n",
       "    <tr>\n",
       "      <th>2018/07/01</th>\n",
       "      <td>NaN</td>\n",
       "      <td>NaN</td>\n",
       "    </tr>\n",
       "    <tr>\n",
       "      <th>2018/07/02</th>\n",
       "      <td>1117.2</td>\n",
       "      <td>1009.26</td>\n",
       "    </tr>\n",
       "    <tr>\n",
       "      <th>2018/07/03</th>\n",
       "      <td>1117.4</td>\n",
       "      <td>1008.26</td>\n",
       "    </tr>\n",
       "  </tbody>\n",
       "</table>\n",
       "</div>"
      ],
      "text/plain": [
       "               원자료    원자료.1\n",
       "변환                         \n",
       "2018/06/29  1121.7  1014.79\n",
       "2018/06/30     NaN      NaN\n",
       "2018/07/01     NaN      NaN\n",
       "2018/07/02  1117.2  1009.26\n",
       "2018/07/03  1117.4  1008.26"
      ]
     },
     "execution_count": 10,
     "metadata": {},
     "output_type": "execute_result"
    }
   ],
   "source": [
    "df2.head()"
   ]
  },
  {
   "cell_type": "code",
   "execution_count": 11,
   "metadata": {},
   "outputs": [],
   "source": [
    "df2.columns = ['미국달러','일본엔']\n",
    "df3 = df2.dropna()"
   ]
  },
  {
   "cell_type": "code",
   "execution_count": 12,
   "metadata": {},
   "outputs": [
    {
     "data": {
      "text/html": [
       "<div>\n",
       "<style scoped>\n",
       "    .dataframe tbody tr th:only-of-type {\n",
       "        vertical-align: middle;\n",
       "    }\n",
       "\n",
       "    .dataframe tbody tr th {\n",
       "        vertical-align: top;\n",
       "    }\n",
       "\n",
       "    .dataframe thead th {\n",
       "        text-align: right;\n",
       "    }\n",
       "</style>\n",
       "<table border=\"1\" class=\"dataframe\">\n",
       "  <thead>\n",
       "    <tr style=\"text-align: right;\">\n",
       "      <th></th>\n",
       "      <th>미국달러</th>\n",
       "      <th>일본엔</th>\n",
       "    </tr>\n",
       "    <tr>\n",
       "      <th>변환</th>\n",
       "      <th></th>\n",
       "      <th></th>\n",
       "    </tr>\n",
       "  </thead>\n",
       "  <tbody>\n",
       "    <tr>\n",
       "      <th>2018/06/29</th>\n",
       "      <td>1121.7</td>\n",
       "      <td>1014.79</td>\n",
       "    </tr>\n",
       "    <tr>\n",
       "      <th>2018/07/02</th>\n",
       "      <td>1117.2</td>\n",
       "      <td>1009.26</td>\n",
       "    </tr>\n",
       "    <tr>\n",
       "      <th>2018/07/03</th>\n",
       "      <td>1117.4</td>\n",
       "      <td>1008.26</td>\n",
       "    </tr>\n",
       "    <tr>\n",
       "      <th>2018/07/04</th>\n",
       "      <td>1121.1</td>\n",
       "      <td>1014.34</td>\n",
       "    </tr>\n",
       "    <tr>\n",
       "      <th>2018/07/05</th>\n",
       "      <td>1115.3</td>\n",
       "      <td>1009.55</td>\n",
       "    </tr>\n",
       "  </tbody>\n",
       "</table>\n",
       "</div>"
      ],
      "text/plain": [
       "              미국달러      일본엔\n",
       "변환                         \n",
       "2018/06/29  1121.7  1014.79\n",
       "2018/07/02  1117.2  1009.26\n",
       "2018/07/03  1117.4  1008.26\n",
       "2018/07/04  1121.1  1014.34\n",
       "2018/07/05  1115.3  1009.55"
      ]
     },
     "execution_count": 12,
     "metadata": {},
     "output_type": "execute_result"
    }
   ],
   "source": [
    "df3.head()"
   ]
  },
  {
   "cell_type": "code",
   "execution_count": 13,
   "metadata": {},
   "outputs": [
    {
     "data": {
      "text/plain": [
       "<matplotlib.axes._subplots.AxesSubplot at 0x222999c5da0>"
      ]
     },
     "execution_count": 13,
     "metadata": {},
     "output_type": "execute_result"
    },
    {
     "data": {
      "image/png": "[encoded data removed]",
      "text/plain": [
       "<Figure size 432x288 with 1 Axes>"
      ]
     },
     "metadata": {
      "needs_background": "light"
     },
     "output_type": "display_data"
    }
   ],
   "source": [
    "df3.plot()"
   ]
  },
  {
   "cell_type": "code",
   "execution_count": 14,
   "metadata": {},
   "outputs": [
    {
     "name": "stdout",
     "output_type": "stream",
     "text": [
      "<class 'pandas.core.frame.DataFrame'>\n",
      "Index: 248 entries, 2018/06/29 to 2019/07/02\n",
      "Data columns (total 2 columns):\n",
      "미국달러    248 non-null float64\n",
      "일본엔     248 non-null float64\n",
      "dtypes: float64(2)\n",
      "memory usage: 5.8+ KB\n"
     ]
    }
   ],
   "source": [
    "df3.info()"
   ]
  },
  {
   "cell_type": "code",
   "execution_count": 15,
   "metadata": {},
   "outputs": [
    {
     "data": {
      "text/plain": [
       "20"
      ]
     },
     "execution_count": 15,
     "metadata": {},
     "output_type": "execute_result"
    }
   ],
   "source": [
    "window_week = 4\n",
    "window_day = window_week * 5  # 5일\n",
    "predict_day = 5\n",
    "window_day"
   ]
  },
  {
   "cell_type": "markdown",
   "metadata": {},
   "source": [
    "X, Y 생성 갯수 체크\n",
    "- 데이터가 30개 있으면? 20개로부터 5일 예측하므로 (20+5) = 1샘플, 총 5샘플\n",
    "- 현재 데이터 248개 샘플, 총 223쌍 X,Y를 만들어야 합니다.\n",
    "- X[224, 2 * 20], y[224, 2* 5]"
   ]
  },
  {
   "cell_type": "code",
   "execution_count": 34,
   "metadata": {},
   "outputs": [
    {
     "data": {
      "text/plain": [
       "((248, 2), (243, 2), (228, 2))"
      ]
     },
     "execution_count": 34,
     "metadata": {},
     "output_type": "execute_result"
    }
   ],
   "source": [
    "before = df3.iloc[:-predict_day] #최근 데이터 5개 빼고\n",
    "later = df3.iloc[window_day:] #과거 데이터 20개 빼고\n",
    "df3.shape, before.shape, later.shape"
   ]
  },
  {
   "cell_type": "code",
   "execution_count": 17,
   "metadata": {},
   "outputs": [
    {
     "data": {
      "text/plain": [
       "224"
      ]
     },
     "execution_count": 17,
     "metadata": {},
     "output_type": "execute_result"
    }
   ],
   "source": [
    "m = len(df3) - (predict_day + window_day - 1)\n",
    "m"
   ]
  },
  {
   "cell_type": "code",
   "execution_count": 23,
   "metadata": {},
   "outputs": [],
   "source": [
    "x_list = []\n",
    "y_list = []\n",
    "for i in range(m):\n",
    "    x = df3.iloc[i:i+window_day]#20일간의 데이터\n",
    "    y = df3.iloc[i+window_day:i+window_day+predict_day] #그다음 5일간의 데이터\n",
    "    x_list.append(x.values)#날짜 인덱스 빼고 값만 저장\n",
    "    y_list.append(y.values)"
   ]
  },
  {
   "cell_type": "code",
   "execution_count": 24,
   "metadata": {},
   "outputs": [
    {
     "data": {
      "text/plain": [
       "((224, 20, 2), (224, 5, 2))"
      ]
     },
     "execution_count": 24,
     "metadata": {},
     "output_type": "execute_result"
    }
   ],
   "source": [
    "X = np.array(x_list)\n",
    "y = np.array(y_list)\n",
    "X.shape, y.shape #(m-instance, day, 특징수(달러,엔화))"
   ]
  },
  {
   "cell_type": "code",
   "execution_count": 25,
   "metadata": {},
   "outputs": [
    {
     "data": {
      "text/plain": [
       "((224, 40), (224, 10))"
      ]
     },
     "execution_count": 25,
     "metadata": {},
     "output_type": "execute_result"
    }
   ],
   "source": [
    "#2차원으로 변환\n",
    "X = np.reshape(X, [m, -1])\n",
    "y = np.reshape(y, [m, -1])\n",
    "X.shape, y.shape # (달러,엔화,달러,엔화....)"
   ]
  },
  {
   "cell_type": "code",
   "execution_count": 26,
   "metadata": {},
   "outputs": [
    {
     "data": {
      "text/plain": [
       "((194, 40), (30, 40), (194, 10), (30, 10))"
      ]
     },
     "execution_count": 26,
     "metadata": {},
     "output_type": "execute_result"
    }
   ],
   "source": [
    "# train / test 분리\n",
    "offset = 30 #테스트셋 \n",
    "X_train = X[offset:]\n",
    "X_test = X[:offset]\n",
    "y_train = y[offset:]\n",
    "y_test = y[:offset]\n",
    "X_train.shape, X_test.shape, y_train.shape, y_test.shape"
   ]
  },
  {
   "cell_type": "code",
   "execution_count": 27,
   "metadata": {},
   "outputs": [],
   "source": [
    "from sklearn.linear_model import LinearRegression, Ridge, Lasso\n",
    "lr = Ridge(alpha=1.0).fit(X_train, y_train)"
   ]
  },
  {
   "cell_type": "code",
   "execution_count": 28,
   "metadata": {},
   "outputs": [
    {
     "data": {
      "text/plain": [
       "(0.9205409191491469, -0.6542108232125314)"
      ]
     },
     "execution_count": 28,
     "metadata": {},
     "output_type": "execute_result"
    }
   ],
   "source": [
    "#성능 측정\n",
    "lr.score(X_train, y_train), lr.score(X_test, y_test)"
   ]
  },
  {
   "cell_type": "code",
   "execution_count": 31,
   "metadata": {},
   "outputs": [
    {
     "data": {
      "text/plain": [
       "(20, 2)"
      ]
     },
     "execution_count": 31,
     "metadata": {},
     "output_type": "execute_result"
    }
   ],
   "source": [
    "최근20일데이터 = df3.iloc[-window_day:]\n",
    "최근20일데이터.shape"
   ]
  },
  {
   "cell_type": "code",
   "execution_count": 32,
   "metadata": {},
   "outputs": [
    {
     "data": {
      "text/plain": [
       "(5, 2)"
      ]
     },
     "execution_count": 32,
     "metadata": {},
     "output_type": "execute_result"
    }
   ],
   "source": [
    "#미래의 5일 환율 예측을 그래프로 시각화\n",
    "최근20일데이터 = df3.iloc[-window_day:].values.reshape([1, -1])\n",
    "미래의5일예측 = lr.predict(최근20일데이터)\n",
    "미래의5일예측 = np.reshape(미래의5일예측, [predict_day, 2])#다시 3차원으로 변환\n",
    "미래의5일예측.shape"
   ]
  },
  {
   "cell_type": "code",
   "execution_count": 33,
   "metadata": {},
   "outputs": [
    {
     "data": {
      "text/plain": [
       "[<matplotlib.lines.Line2D at 0x2229d084cc0>]"
      ]
     },
     "execution_count": 33,
     "metadata": {},
     "output_type": "execute_result"
    },
    {
     "data": {
      "image/png": "[encoded data removed]",
      "text/plain": [
       "<Figure size 432x288 with 1 Axes>"
      ]
     },
     "metadata": {
      "needs_background": "light"
     },
     "output_type": "display_data"
    }
   ],
   "source": [
    "usa = df3.iloc[:,0].values\n",
    "japan = df3.iloc[:,1].values\n",
    "x_num = np.arange(len(usa))\n",
    "x1_num = np.arange(len(usa),len(usa)+len(미래의5일예측))\n",
    "plt.plot(x_num, usa)\n",
    "plt.plot(x_num, japan)\n",
    "plt.plot(x1_num, 미래의5일예측[:,0])\n",
    "plt.plot(x1_num, 미래의5일예측[:,1])"
   ]
  },
  {
   "cell_type": "code",
   "execution_count": null,
   "metadata": {},
   "outputs": [],
   "source": []
  }
 ],
 "metadata": {
  "kernelspec": {
   "display_name": "Python 3",
   "language": "python",
   "name": "python3"
  },
  "language_info": {
   "codemirror_mode": {
    "name": "ipython",
    "version": 3
   },
   "file_extension": ".py",
   "mimetype": "text/x-python",
   "name": "python",
   "nbconvert_exporter": "python",
   "pygments_lexer": "ipython3",
   "version": "3.7.3"
  }
 },
 "nbformat": 4,
 "nbformat_minor": 2
}
