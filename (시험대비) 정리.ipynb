{
 "cells": [
  {
   "cell_type": "code",
   "execution_count": 1,
   "metadata": {},
   "outputs": [],
   "source": [
    " #정리"
   ]
  },
  {
   "cell_type": "code",
   "execution_count": null,
   "metadata": {},
   "outputs": [],
   "source": [
    "파이썬 2일 / 넘파이 1일 / Matplot / 지하철 무임승차 / 연구 조사 1일\n",
    "판다스 : Excel, csv 그래프, 캐글, 머신러닝 저장소\n",
    "교사학습 : KNN -가까운거, 분류:투표, 예측:평균, \n",
    "           선형 회귀 : 분류:Linear Regression / 예측:Logistics Regression\n",
    "           제약 : Ridge, Didge Classfier, Lasso\n",
    "           결정트리 : 설명력 단점 : 오버피팅(과적합) > 해소 > 앙상블(Random forest, Gradient Boost, Adaboost)\n",
    "             - 데이터를 다른 것을 주입 : 부트스트랩\n",
    "             - SVN : 일부 샘플들 만으로 클래스 경계를 만듦 > 뉴럴 네트워크에게 밀림\n",
    "             - 뉴럴 네트워크 : MLP\n",
    "비교사학습 : 차원 축소에서 시각화, 단순화\n",
    "           클러스터링 : 그룹화 - Kmeans, 병합군집, DBSCAN(k대신 샘플간의 거리 알려줘야함)"
   ]
  }
 ],
 "metadata": {
  "kernelspec": {
   "display_name": "Python 3",
   "language": "python",
   "name": "python3"
  },
  "language_info": {
   "codemirror_mode": {
    "name": "ipython",
    "version": 3
   },
   "file_extension": ".py",
   "mimetype": "text/x-python",
   "name": "python",
   "nbconvert_exporter": "python",
   "pygments_lexer": "ipython3",
   "version": "3.7.3"
  }
 },
 "nbformat": 4,
 "nbformat_minor": 2
}
