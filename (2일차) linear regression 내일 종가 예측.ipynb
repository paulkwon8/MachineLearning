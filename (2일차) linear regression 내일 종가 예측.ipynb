{
 "cells": [
  {
   "cell_type": "code",
   "execution_count": 1,
   "metadata": {},
   "outputs": [],
   "source": [
    "#Linear Regression 으로 내일 종가 예측\n"
   ]
  },
  {
   "cell_type": "code",
   "execution_count": 2,
   "metadata": {},
   "outputs": [],
   "source": [
    "import numpy as np\n",
    "import pandas as pd\n",
    "import matplotlib.pyplot as plt"
   ]
  },
  {
   "cell_type": "code",
   "execution_count": 3,
   "metadata": {},
   "outputs": [
    {
     "data": {
      "text/plain": [
       "3"
      ]
     },
     "execution_count": 3,
     "metadata": {},
     "output_type": "execute_result"
    }
   ],
   "source": [
    "url = 'http://finance.daum.net/domestic/kospi200'\n",
    "url = '코스피200 _ 다음 금융.html' #웹페이지를 다른 이름으로 저장\n",
    "tables = pd.read_html(url, index_col=0) # index는 일자로 한다.\n",
    "len(tables)"
   ]
  },
  {
   "cell_type": "code",
   "execution_count": 4,
   "metadata": {},
   "outputs": [
    {
     "name": "stdout",
     "output_type": "stream",
     "text": [
      "(10, 6)\n",
      "(10, 8)\n",
      "(10, 7)\n"
     ]
    }
   ],
   "source": [
    "for table in tables:\n",
    "    print(table.shape)"
   ]
  },
  {
   "cell_type": "code",
   "execution_count": 5,
   "metadata": {},
   "outputs": [],
   "source": [
    "df = tables[1]"
   ]
  },
  {
   "cell_type": "code",
   "execution_count": 6,
   "metadata": {},
   "outputs": [
    {
     "data": {
      "text/html": [
       "<div>\n",
       "<style scoped>\n",
       "    .dataframe tbody tr th:only-of-type {\n",
       "        vertical-align: middle;\n",
       "    }\n",
       "\n",
       "    .dataframe tbody tr th {\n",
       "        vertical-align: top;\n",
       "    }\n",
       "\n",
       "    .dataframe thead th {\n",
       "        text-align: right;\n",
       "    }\n",
       "</style>\n",
       "<table border=\"1\" class=\"dataframe\">\n",
       "  <thead>\n",
       "    <tr style=\"text-align: right;\">\n",
       "      <th></th>\n",
       "      <th>종가</th>\n",
       "      <th>전일비</th>\n",
       "      <th>등락률</th>\n",
       "      <th>거래량</th>\n",
       "      <th>거래대금</th>\n",
       "      <th>개인(억)</th>\n",
       "      <th>외국인(억)</th>\n",
       "      <th>기관(억)</th>\n",
       "    </tr>\n",
       "    <tr>\n",
       "      <th>일자</th>\n",
       "      <th></th>\n",
       "      <th></th>\n",
       "      <th></th>\n",
       "      <th></th>\n",
       "      <th></th>\n",
       "      <th></th>\n",
       "      <th></th>\n",
       "      <th></th>\n",
       "    </tr>\n",
       "  </thead>\n",
       "  <tbody>\n",
       "    <tr>\n",
       "      <th>19.07.02</th>\n",
       "      <td>276.84</td>\n",
       "      <td>▼0.43</td>\n",
       "      <td>-0.16%</td>\n",
       "      <td>22664</td>\n",
       "      <td>829865</td>\n",
       "      <td>323</td>\n",
       "      <td>107</td>\n",
       "      <td>-411</td>\n",
       "    </tr>\n",
       "    <tr>\n",
       "      <th>19.07.01</th>\n",
       "      <td>277.27</td>\n",
       "      <td>▼0.23</td>\n",
       "      <td>-0.08%</td>\n",
       "      <td>74357</td>\n",
       "      <td>3446049</td>\n",
       "      <td>-214</td>\n",
       "      <td>1286</td>\n",
       "      <td>365</td>\n",
       "    </tr>\n",
       "    <tr>\n",
       "      <th>19.06.28</th>\n",
       "      <td>277.50</td>\n",
       "      <td>▼0.25</td>\n",
       "      <td>-0.09%</td>\n",
       "      <td>67598</td>\n",
       "      <td>2879563</td>\n",
       "      <td>-1802</td>\n",
       "      <td>3011</td>\n",
       "      <td>-1189</td>\n",
       "    </tr>\n",
       "    <tr>\n",
       "      <th>19.06.27</th>\n",
       "      <td>277.75</td>\n",
       "      <td>▲2.22</td>\n",
       "      <td>+0.81%</td>\n",
       "      <td>66303</td>\n",
       "      <td>3357666</td>\n",
       "      <td>-4165</td>\n",
       "      <td>1837</td>\n",
       "      <td>2415</td>\n",
       "    </tr>\n",
       "    <tr>\n",
       "      <th>19.06.26</th>\n",
       "      <td>275.53</td>\n",
       "      <td>▲0.25</td>\n",
       "      <td>+0.09%</td>\n",
       "      <td>58818</td>\n",
       "      <td>2636531</td>\n",
       "      <td>-712</td>\n",
       "      <td>157</td>\n",
       "      <td>557</td>\n",
       "    </tr>\n",
       "  </tbody>\n",
       "</table>\n",
       "</div>"
      ],
      "text/plain": [
       "              종가    전일비     등락률    거래량     거래대금  개인(억)  외국인(억)  기관(억)\n",
       "일자                                                                   \n",
       "19.07.02  276.84  ▼0.43  -0.16%  22664   829865    323     107   -411\n",
       "19.07.01  277.27  ▼0.23  -0.08%  74357  3446049   -214    1286    365\n",
       "19.06.28  277.50  ▼0.25  -0.09%  67598  2879563  -1802    3011  -1189\n",
       "19.06.27  277.75  ▲2.22  +0.81%  66303  3357666  -4165    1837   2415\n",
       "19.06.26  275.53  ▲0.25  +0.09%  58818  2636531   -712     157    557"
      ]
     },
     "execution_count": 6,
     "metadata": {},
     "output_type": "execute_result"
    }
   ],
   "source": [
    "df.head()"
   ]
  },
  {
   "cell_type": "code",
   "execution_count": 7,
   "metadata": {},
   "outputs": [],
   "source": [
    "#전일비와 등락률을 수치데이터로 변환\n",
    "df['전일비'] = df['전일비'].replace('▼','-',regex=True)\n",
    "df['전일비'] = df['전일비'].replace('▲','',regex=True)\n",
    "##df['등락률'] = df['등락률'].replace('+','',regex=True)\n",
    "df['등락률'] = df['등락률'].replace('%','',regex=True)\n",
    "df['전일비'] = df['전일비'].astype(np.float)\n",
    "df['등락률'] = df['등락률'].astype(np.float)"
   ]
  },
  {
   "cell_type": "code",
   "execution_count": 34,
   "metadata": {},
   "outputs": [],
   "source": [
    "#min,max 정규화 [0.1]\n",
    "minimum = np.min(df, axis=0)\n",
    "maximum = np.max(df, axis=0)\n",
    "df_norm = (df - minimum) / (maximum - minimum)"
   ]
  },
  {
   "cell_type": "code",
   "execution_count": 35,
   "metadata": {},
   "outputs": [
    {
     "data": {
      "text/html": [
       "<div>\n",
       "<style scoped>\n",
       "    .dataframe tbody tr th:only-of-type {\n",
       "        vertical-align: middle;\n",
       "    }\n",
       "\n",
       "    .dataframe tbody tr th {\n",
       "        vertical-align: top;\n",
       "    }\n",
       "\n",
       "    .dataframe thead th {\n",
       "        text-align: right;\n",
       "    }\n",
       "</style>\n",
       "<table border=\"1\" class=\"dataframe\">\n",
       "  <thead>\n",
       "    <tr style=\"text-align: right;\">\n",
       "      <th></th>\n",
       "      <th>종가</th>\n",
       "      <th>전일비</th>\n",
       "      <th>등락률</th>\n",
       "      <th>거래량</th>\n",
       "      <th>거래대금</th>\n",
       "      <th>개인(억)</th>\n",
       "      <th>외국인(억)</th>\n",
       "      <th>기관(억)</th>\n",
       "    </tr>\n",
       "    <tr>\n",
       "      <th>일자</th>\n",
       "      <th></th>\n",
       "      <th></th>\n",
       "      <th></th>\n",
       "      <th></th>\n",
       "      <th></th>\n",
       "      <th></th>\n",
       "      <th></th>\n",
       "      <th></th>\n",
       "    </tr>\n",
       "  </thead>\n",
       "  <tbody>\n",
       "    <tr>\n",
       "      <th>19.07.02</th>\n",
       "      <td>276.84</td>\n",
       "      <td>-0.43</td>\n",
       "      <td>-0.16</td>\n",
       "      <td>22664</td>\n",
       "      <td>829865</td>\n",
       "      <td>323</td>\n",
       "      <td>107</td>\n",
       "      <td>-411</td>\n",
       "    </tr>\n",
       "    <tr>\n",
       "      <th>19.07.01</th>\n",
       "      <td>277.27</td>\n",
       "      <td>-0.23</td>\n",
       "      <td>-0.08</td>\n",
       "      <td>74357</td>\n",
       "      <td>3446049</td>\n",
       "      <td>-214</td>\n",
       "      <td>1286</td>\n",
       "      <td>365</td>\n",
       "    </tr>\n",
       "    <tr>\n",
       "      <th>19.06.28</th>\n",
       "      <td>277.50</td>\n",
       "      <td>-0.25</td>\n",
       "      <td>-0.09</td>\n",
       "      <td>67598</td>\n",
       "      <td>2879563</td>\n",
       "      <td>-1802</td>\n",
       "      <td>3011</td>\n",
       "      <td>-1189</td>\n",
       "    </tr>\n",
       "    <tr>\n",
       "      <th>19.06.27</th>\n",
       "      <td>277.75</td>\n",
       "      <td>2.22</td>\n",
       "      <td>0.81</td>\n",
       "      <td>66303</td>\n",
       "      <td>3357666</td>\n",
       "      <td>-4165</td>\n",
       "      <td>1837</td>\n",
       "      <td>2415</td>\n",
       "    </tr>\n",
       "    <tr>\n",
       "      <th>19.06.26</th>\n",
       "      <td>275.53</td>\n",
       "      <td>0.25</td>\n",
       "      <td>0.09</td>\n",
       "      <td>58818</td>\n",
       "      <td>2636531</td>\n",
       "      <td>-712</td>\n",
       "      <td>157</td>\n",
       "      <td>557</td>\n",
       "    </tr>\n",
       "    <tr>\n",
       "      <th>19.06.25</th>\n",
       "      <td>275.28</td>\n",
       "      <td>-0.30</td>\n",
       "      <td>-0.11</td>\n",
       "      <td>60506</td>\n",
       "      <td>2635188</td>\n",
       "      <td>-364</td>\n",
       "      <td>277</td>\n",
       "      <td>-12</td>\n",
       "    </tr>\n",
       "    <tr>\n",
       "      <th>19.06.24</th>\n",
       "      <td>275.58</td>\n",
       "      <td>0.10</td>\n",
       "      <td>0.04</td>\n",
       "      <td>55539</td>\n",
       "      <td>2235175</td>\n",
       "      <td>-978</td>\n",
       "      <td>-1048</td>\n",
       "      <td>1966</td>\n",
       "    </tr>\n",
       "    <tr>\n",
       "      <th>19.06.21</th>\n",
       "      <td>275.48</td>\n",
       "      <td>-0.53</td>\n",
       "      <td>-0.19</td>\n",
       "      <td>77279</td>\n",
       "      <td>3275700</td>\n",
       "      <td>538</td>\n",
       "      <td>206</td>\n",
       "      <td>-767</td>\n",
       "    </tr>\n",
       "    <tr>\n",
       "      <th>19.06.20</th>\n",
       "      <td>276.01</td>\n",
       "      <td>0.70</td>\n",
       "      <td>0.25</td>\n",
       "      <td>55336</td>\n",
       "      <td>2417864</td>\n",
       "      <td>-1342</td>\n",
       "      <td>-434</td>\n",
       "      <td>1762</td>\n",
       "    </tr>\n",
       "    <tr>\n",
       "      <th>19.06.19</th>\n",
       "      <td>275.31</td>\n",
       "      <td>3.95</td>\n",
       "      <td>1.46</td>\n",
       "      <td>69733</td>\n",
       "      <td>3134202</td>\n",
       "      <td>-4430</td>\n",
       "      <td>2876</td>\n",
       "      <td>1606</td>\n",
       "    </tr>\n",
       "  </tbody>\n",
       "</table>\n",
       "</div>"
      ],
      "text/plain": [
       "              종가   전일비   등락률    거래량     거래대금  개인(억)  외국인(억)  기관(억)\n",
       "일자                                                                \n",
       "19.07.02  276.84 -0.43 -0.16  22664   829865    323     107   -411\n",
       "19.07.01  277.27 -0.23 -0.08  74357  3446049   -214    1286    365\n",
       "19.06.28  277.50 -0.25 -0.09  67598  2879563  -1802    3011  -1189\n",
       "19.06.27  277.75  2.22  0.81  66303  3357666  -4165    1837   2415\n",
       "19.06.26  275.53  0.25  0.09  58818  2636531   -712     157    557\n",
       "19.06.25  275.28 -0.30 -0.11  60506  2635188   -364     277    -12\n",
       "19.06.24  275.58  0.10  0.04  55539  2235175   -978   -1048   1966\n",
       "19.06.21  275.48 -0.53 -0.19  77279  3275700    538     206   -767\n",
       "19.06.20  276.01  0.70  0.25  55336  2417864  -1342    -434   1762\n",
       "19.06.19  275.31  3.95  1.46  69733  3134202  -4430    2876   1606"
      ]
     },
     "execution_count": 35,
     "metadata": {},
     "output_type": "execute_result"
    }
   ],
   "source": [
    "df"
   ]
  },
  {
   "cell_type": "code",
   "execution_count": 36,
   "metadata": {},
   "outputs": [],
   "source": [
    "#X와 y를 분리\n",
    "X = df_norm.iloc[1:] #오늘 데이터 제외\n",
    "y = df_norm.iloc[:-1,0] #가장 오래된 데이터와 종가 외의 컬럼 제외"
   ]
  },
  {
   "cell_type": "code",
   "execution_count": 37,
   "metadata": {},
   "outputs": [
    {
     "data": {
      "text/html": [
       "<div>\n",
       "<style scoped>\n",
       "    .dataframe tbody tr th:only-of-type {\n",
       "        vertical-align: middle;\n",
       "    }\n",
       "\n",
       "    .dataframe tbody tr th {\n",
       "        vertical-align: top;\n",
       "    }\n",
       "\n",
       "    .dataframe thead th {\n",
       "        text-align: right;\n",
       "    }\n",
       "</style>\n",
       "<table border=\"1\" class=\"dataframe\">\n",
       "  <thead>\n",
       "    <tr style=\"text-align: right;\">\n",
       "      <th></th>\n",
       "      <th>종가</th>\n",
       "      <th>전일비</th>\n",
       "      <th>등락률</th>\n",
       "      <th>거래량</th>\n",
       "      <th>거래대금</th>\n",
       "      <th>개인(억)</th>\n",
       "      <th>외국인(억)</th>\n",
       "      <th>기관(억)</th>\n",
       "    </tr>\n",
       "    <tr>\n",
       "      <th>일자</th>\n",
       "      <th></th>\n",
       "      <th></th>\n",
       "      <th></th>\n",
       "      <th></th>\n",
       "      <th></th>\n",
       "      <th></th>\n",
       "      <th></th>\n",
       "      <th></th>\n",
       "    </tr>\n",
       "  </thead>\n",
       "  <tbody>\n",
       "    <tr>\n",
       "      <th>19.07.01</th>\n",
       "      <td>0.805668</td>\n",
       "      <td>0.066964</td>\n",
       "      <td>0.066667</td>\n",
       "      <td>0.946498</td>\n",
       "      <td>1.000000</td>\n",
       "      <td>0.848631</td>\n",
       "      <td>0.575018</td>\n",
       "      <td>0.431188</td>\n",
       "    </tr>\n",
       "    <tr>\n",
       "      <th>19.06.28</th>\n",
       "      <td>0.898785</td>\n",
       "      <td>0.062500</td>\n",
       "      <td>0.060606</td>\n",
       "      <td>0.822741</td>\n",
       "      <td>0.783469</td>\n",
       "      <td>0.528986</td>\n",
       "      <td>1.000000</td>\n",
       "      <td>0.000000</td>\n",
       "    </tr>\n",
       "    <tr>\n",
       "      <th>19.06.27</th>\n",
       "      <td>1.000000</td>\n",
       "      <td>0.613839</td>\n",
       "      <td>0.606061</td>\n",
       "      <td>0.799030</td>\n",
       "      <td>0.966217</td>\n",
       "      <td>0.053341</td>\n",
       "      <td>0.710766</td>\n",
       "      <td>1.000000</td>\n",
       "    </tr>\n",
       "    <tr>\n",
       "      <th>19.06.26</th>\n",
       "      <td>0.101215</td>\n",
       "      <td>0.174107</td>\n",
       "      <td>0.169697</td>\n",
       "      <td>0.661979</td>\n",
       "      <td>0.690573</td>\n",
       "      <td>0.748390</td>\n",
       "      <td>0.296871</td>\n",
       "      <td>0.484462</td>\n",
       "    </tr>\n",
       "    <tr>\n",
       "      <th>19.06.25</th>\n",
       "      <td>0.000000</td>\n",
       "      <td>0.051339</td>\n",
       "      <td>0.048485</td>\n",
       "      <td>0.692887</td>\n",
       "      <td>0.690060</td>\n",
       "      <td>0.818438</td>\n",
       "      <td>0.326435</td>\n",
       "      <td>0.326582</td>\n",
       "    </tr>\n",
       "    <tr>\n",
       "      <th>19.06.24</th>\n",
       "      <td>0.121457</td>\n",
       "      <td>0.140625</td>\n",
       "      <td>0.139394</td>\n",
       "      <td>0.601941</td>\n",
       "      <td>0.537160</td>\n",
       "      <td>0.694847</td>\n",
       "      <td>0.000000</td>\n",
       "      <td>0.875416</td>\n",
       "    </tr>\n",
       "    <tr>\n",
       "      <th>19.06.21</th>\n",
       "      <td>0.080972</td>\n",
       "      <td>0.000000</td>\n",
       "      <td>0.000000</td>\n",
       "      <td>1.000000</td>\n",
       "      <td>0.934886</td>\n",
       "      <td>1.000000</td>\n",
       "      <td>0.308943</td>\n",
       "      <td>0.117092</td>\n",
       "    </tr>\n",
       "    <tr>\n",
       "      <th>19.06.20</th>\n",
       "      <td>0.295547</td>\n",
       "      <td>0.274554</td>\n",
       "      <td>0.266667</td>\n",
       "      <td>0.598224</td>\n",
       "      <td>0.606991</td>\n",
       "      <td>0.621578</td>\n",
       "      <td>0.151269</td>\n",
       "      <td>0.818812</td>\n",
       "    </tr>\n",
       "    <tr>\n",
       "      <th>19.06.19</th>\n",
       "      <td>0.012146</td>\n",
       "      <td>1.000000</td>\n",
       "      <td>1.000000</td>\n",
       "      <td>0.861833</td>\n",
       "      <td>0.880801</td>\n",
       "      <td>0.000000</td>\n",
       "      <td>0.966741</td>\n",
       "      <td>0.775527</td>\n",
       "    </tr>\n",
       "  </tbody>\n",
       "</table>\n",
       "</div>"
      ],
      "text/plain": [
       "                종가       전일비       등락률       거래량      거래대금     개인(억)  \\\n",
       "일자                                                                     \n",
       "19.07.01  0.805668  0.066964  0.066667  0.946498  1.000000  0.848631   \n",
       "19.06.28  0.898785  0.062500  0.060606  0.822741  0.783469  0.528986   \n",
       "19.06.27  1.000000  0.613839  0.606061  0.799030  0.966217  0.053341   \n",
       "19.06.26  0.101215  0.174107  0.169697  0.661979  0.690573  0.748390   \n",
       "19.06.25  0.000000  0.051339  0.048485  0.692887  0.690060  0.818438   \n",
       "19.06.24  0.121457  0.140625  0.139394  0.601941  0.537160  0.694847   \n",
       "19.06.21  0.080972  0.000000  0.000000  1.000000  0.934886  1.000000   \n",
       "19.06.20  0.295547  0.274554  0.266667  0.598224  0.606991  0.621578   \n",
       "19.06.19  0.012146  1.000000  1.000000  0.861833  0.880801  0.000000   \n",
       "\n",
       "            외국인(억)     기관(억)  \n",
       "일자                            \n",
       "19.07.01  0.575018  0.431188  \n",
       "19.06.28  1.000000  0.000000  \n",
       "19.06.27  0.710766  1.000000  \n",
       "19.06.26  0.296871  0.484462  \n",
       "19.06.25  0.326435  0.326582  \n",
       "19.06.24  0.000000  0.875416  \n",
       "19.06.21  0.308943  0.117092  \n",
       "19.06.20  0.151269  0.818812  \n",
       "19.06.19  0.966741  0.775527  "
      ]
     },
     "execution_count": 37,
     "metadata": {},
     "output_type": "execute_result"
    }
   ],
   "source": [
    "X"
   ]
  },
  {
   "cell_type": "code",
   "execution_count": 38,
   "metadata": {},
   "outputs": [
    {
     "data": {
      "text/plain": [
       "일자\n",
       "19.07.02    0.631579\n",
       "19.07.01    0.805668\n",
       "19.06.28    0.898785\n",
       "19.06.27    1.000000\n",
       "19.06.26    0.101215\n",
       "19.06.25    0.000000\n",
       "19.06.24    0.121457\n",
       "19.06.21    0.080972\n",
       "19.06.20    0.295547\n",
       "Name: 종가, dtype: float64"
      ]
     },
     "execution_count": 38,
     "metadata": {},
     "output_type": "execute_result"
    }
   ],
   "source": [
    "y"
   ]
  },
  {
   "cell_type": "code",
   "execution_count": 39,
   "metadata": {},
   "outputs": [
    {
     "data": {
      "text/plain": [
       "((9, 8), (9,))"
      ]
     },
     "execution_count": 39,
     "metadata": {},
     "output_type": "execute_result"
    }
   ],
   "source": [
    "X.shape, y.shape"
   ]
  },
  {
   "cell_type": "code",
   "execution_count": 40,
   "metadata": {},
   "outputs": [],
   "source": [
    "# Train / Test 용 분리\n",
    "from sklearn.model_selection import train_test_split\n",
    "offset = 2\n",
    "X_train = X[offset:]  #예전\n",
    "X_test = X[:offset]   #최근\n",
    "y_train = y[offset:]  #예전\n",
    "y_test = y[:offset]   #최근\n",
    "\n",
    "## X_train, X_test, y_train, y_test = train_test_split(X, y, random_state=42) 매일매일 데이터이기에 섞지 않는다."
   ]
  },
  {
   "cell_type": "code",
   "execution_count": 45,
   "metadata": {},
   "outputs": [],
   "source": [
    "\n",
    "'''\n",
    "train 셋으로 Linear Regression 모델 fit\n",
    "78 릿지(ridge)모델 : w 를 가능한한 작게 만드는 LinearRegression\n",
    "   규제(regularization)\n",
    "W 를 줄인다는 것은 Y를 예측하는 데 가능한한 모든 특성을 반영해라\n",
    "Y = w1 * x1 + w2 * x2 + ..... wi*xi + b\n",
    "'''\n",
    "from sklearn.linear_model import LinearRegression, Ridge, Lasso\n",
    "lr = Lasso().fit(X_train, y_train)"
   ]
  },
  {
   "cell_type": "code",
   "execution_count": 46,
   "metadata": {},
   "outputs": [
    {
     "data": {
      "text/plain": [
       "array([ 0.,  0.,  0.,  0.,  0., -0.,  0.,  0.])"
      ]
     },
     "execution_count": 46,
     "metadata": {},
     "output_type": "execute_result"
    }
   ],
   "source": [
    "lr.coef_"
   ]
  },
  {
   "cell_type": "code",
   "execution_count": 47,
   "metadata": {},
   "outputs": [
    {
     "data": {
      "text/plain": [
       "(0.0, -17.27355106455674)"
      ]
     },
     "execution_count": 47,
     "metadata": {},
     "output_type": "execute_result"
    }
   ],
   "source": [
    "#score 측정\n",
    "lr.score(X_train, y_train), lr.score(X_test, y_test)"
   ]
  },
  {
   "cell_type": "code",
   "execution_count": 48,
   "metadata": {},
   "outputs": [
    {
     "data": {
      "text/plain": [
       "<matplotlib.legend.Legend at 0x1b63da4a9b0>"
      ]
     },
     "execution_count": 48,
     "metadata": {},
     "output_type": "execute_result"
    },
    {
     "data": {
      "image/png": "[encoded data removed]",
      "text/plain": [
       "<Figure size 432x288 with 1 Axes>"
      ]
     },
     "metadata": {
      "needs_background": "light"
     },
     "output_type": "display_data"
    }
   ],
   "source": [
    "#예측을 그래프로 시각화\n",
    "train_len = np.arange(len(X_train))\n",
    "test_len = np.arange(len(X_train), len(X_train) + len(X_test))\n",
    "plt.plot(train_len, lr.predict(X_train), label='train_x')\n",
    "plt.plot(train_len, y_train, label='train_y')\n",
    "plt.plot(test_len, lr.predict(X_test), label='test_x')\n",
    "plt.plot(test_len, y_test, label='test_y')\n",
    "plt.legend()"
   ]
  }
 ],
 "metadata": {
  "kernelspec": {
   "display_name": "Python 3",
   "language": "python",
   "name": "python3"
  },
  "language_info": {
   "codemirror_mode": {
    "name": "ipython",
    "version": 3
   },
   "file_extension": ".py",
   "mimetype": "text/x-python",
   "name": "python",
   "nbconvert_exporter": "python",
   "pygments_lexer": "ipython3",
   "version": "3.7.3"
  }
 },
 "nbformat": 4,
 "nbformat_minor": 2
}
